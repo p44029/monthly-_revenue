{
  "nbformat": 4,
  "nbformat_minor": 0,
  "metadata": {
    "colab": {
      "provenance": []
    },
    "kernelspec": {
      "name": "python3",
      "display_name": "Python 3"
    },
    "language_info": {
      "name": "python"
    }
  },
  "cells": [
    {
      "cell_type": "code",
      "execution_count": 1,
      "metadata": {
        "id": "irZvSL2XwSbu"
      },
      "outputs": [],
      "source": [
        "# prompt: import pandas\n",
        "\n",
        "import pandas as pd\n"
      ]
    },
    {
      "cell_type": "code",
      "source": [
        "# prompt: import/content/Manisha Garg - revolutioncart_data.csv\n",
        "\n",
        "df = pd.read_csv('/content/Manisha Garg - revolutioncart_data.csv')\n"
      ],
      "metadata": {
        "id": "hth8KAG-xTYq"
      },
      "execution_count": 2,
      "outputs": []
    },
    {
      "cell_type": "code",
      "source": [
        "# prompt: df\n",
        "\n",
        "print(df)\n"
      ],
      "metadata": {
        "colab": {
          "base_uri": "https://localhost:8080/"
        },
        "id": "3lPLXpsKxat1",
        "outputId": "c49d3f87-7249-4522-bb10-678b2e7cce98"
      },
      "execution_count": 3,
      "outputs": [
        {
          "output_type": "stream",
          "name": "stdout",
          "text": [
            "    month_of_year  is_holiday_season  total_sku_count  average_product_rating  \\\n",
            "0               1                  0      12440.14782                3.852202   \n",
            "1               2                  0      12287.09708                3.913549   \n",
            "2               3                  0      13554.97763                4.196981   \n",
            "3               4                  0      14912.24666                4.079651   \n",
            "4               5                  0      13636.99114                3.907948   \n",
            "..            ...                ...              ...                     ...   \n",
            "79              8                  0      48028.15391                3.849764   \n",
            "80              9                  0      50277.97865                4.206576   \n",
            "81             10                  0      51336.69082                4.096457   \n",
            "82             11                  1      52939.40000                4.178313   \n",
            "83             12                  1      51425.16345                4.393259   \n",
            "\n",
            "    new_product_releases  total_customers  new_customers  \\\n",
            "0              84.081933      47489.64585    5160.112499   \n",
            "1              93.081933      56251.30704    4969.480662   \n",
            "2             115.081933      90817.67539    5090.886626   \n",
            "3             109.081933      97996.56709    5001.438910   \n",
            "4             102.081933     107164.51180    5144.330734   \n",
            "..                   ...              ...            ...   \n",
            "79             97.081933     914646.13160    4896.343635   \n",
            "80            116.081933     920519.04450    4872.669622   \n",
            "81             95.081933     942091.57200    4885.167906   \n",
            "82            123.081933     936030.24190    4860.009036   \n",
            "83            104.081933     956126.02480    5132.112499   \n",
            "\n",
            "    customer_retention_rate  average_page_load_time  \\\n",
            "0                  0.700150                2.608194   \n",
            "1                  0.688037                2.286818   \n",
            "2                  0.754210                3.525832   \n",
            "3                  0.708542                3.150905   \n",
            "4                  0.712701                2.469266   \n",
            "..                      ...                     ...   \n",
            "79                 0.750530                3.313814   \n",
            "80                 0.611198                3.095429   \n",
            "81                 0.772298                3.665897   \n",
            "82                 0.687920                3.171360   \n",
            "83                 0.674477                3.189397   \n",
            "\n",
            "    mobile_traffic_percentage  marketing_spend  email_campaign_clicks  \\\n",
            "0                   29.058984       511.429142            49856.56623   \n",
            "1                   30.154245       465.885008            50223.56623   \n",
            "2                   31.365668       479.025109            50277.56623   \n",
            "3                   27.811655       502.584885            50151.56623   \n",
            "4                   29.017549       570.747323            50143.56623   \n",
            "..                        ...              ...                    ...   \n",
            "79                  69.221499       408.749619            49841.56623   \n",
            "80                  68.397062       422.405735            50305.56623   \n",
            "81                  68.881866       578.884963            49784.56623   \n",
            "82                  71.180849       557.114784            50116.56623   \n",
            "83                  68.754119       686.487797            50048.56623   \n",
            "\n",
            "    social_media_engagement  average_shipping_time  return_rate  \\\n",
            "0               99761.50674               3.172891    10.110812   \n",
            "1              100987.33900               3.778945     8.527737   \n",
            "2              102840.02460               3.542102     9.830225   \n",
            "3              104988.90820               2.297694     9.037544   \n",
            "4              106271.30130               2.588130     9.205921   \n",
            "..                      ...                    ...          ...   \n",
            "79              94224.49718               3.055060    11.132098   \n",
            "80              95322.51064               3.362108    10.891006   \n",
            "81              96913.12322               3.120947     8.456553   \n",
            "82              98536.12846               3.352322     7.387530   \n",
            "83              99859.50674               2.622607    10.875771   \n",
            "\n",
            "    customer_support_tickets  competitor_price_index  \\\n",
            "0                1942.925744               96.840646   \n",
            "1                1994.925744              112.390933   \n",
            "2                1983.925744               96.778699   \n",
            "3                2048.925744              100.522693   \n",
            "4                2037.925744              107.310486   \n",
            "..                       ...                     ...   \n",
            "79               1993.925744               96.954673   \n",
            "80               2063.925744              103.571260   \n",
            "81               1986.925744               93.328490   \n",
            "82               2026.925744              101.067726   \n",
            "83               2015.925744               92.817028   \n",
            "\n",
            "    consumer_confidence_index  monthly_revenue  \n",
            "0                  103.301295      150622.6142  \n",
            "1                   98.280580      178125.3643  \n",
            "2                   82.485677      204916.8175  \n",
            "3                  110.284389      195806.4177  \n",
            "4                   91.291079      189544.5679  \n",
            "..                        ...              ...  \n",
            "79                  95.105332      226527.9955  \n",
            "80                 102.021833      253095.1575  \n",
            "81                  95.682981      250467.2965  \n",
            "82                 100.321605      292421.4396  \n",
            "83                 111.812970      303652.0427  \n",
            "\n",
            "[84 rows x 19 columns]\n"
          ]
        }
      ]
    },
    {
      "cell_type": "code",
      "source": [
        "# prompt: consider monthly_revenue  as y and others as x\n",
        "\n",
        "x = df.drop('monthly_revenue', axis=1)\n",
        "y = df['monthly_revenue']\n"
      ],
      "metadata": {
        "id": "ga-2D-YmxfZi"
      },
      "execution_count": 4,
      "outputs": []
    },
    {
      "cell_type": "code",
      "source": [
        "# prompt: split x and y into train and test\n",
        "\n",
        "from sklearn.model_selection import train_test_split\n",
        "\n",
        "x_train, x_test, y_train, y_test = train_test_split(x, y, test_size=0.2, random_state=42)\n"
      ],
      "metadata": {
        "id": "EekfOwNaxvfJ"
      },
      "execution_count": 5,
      "outputs": []
    },
    {
      "cell_type": "code",
      "source": [
        "# prompt: make linear regression model for x_train and y_train\n",
        "\n",
        "from sklearn.linear_model import LinearRegression\n",
        "\n",
        "# Create a Linear Regression model\n",
        "model = LinearRegression()\n",
        "\n",
        "# Train the model on the training data\n",
        "model.fit(x_train, y_train)\n"
      ],
      "metadata": {
        "colab": {
          "base_uri": "https://localhost:8080/",
          "height": 80
        },
        "id": "Njf-Y6sNx2_q",
        "outputId": "03b21a09-7494-42ca-946e-fb99f80c7cdb"
      },
      "execution_count": 6,
      "outputs": [
        {
          "output_type": "execute_result",
          "data": {
            "text/plain": [
              "LinearRegression()"
            ],
            "text/html": [
              "<style>#sk-container-id-1 {\n",
              "  /* Definition of color scheme common for light and dark mode */\n",
              "  --sklearn-color-text: black;\n",
              "  --sklearn-color-line: gray;\n",
              "  /* Definition of color scheme for unfitted estimators */\n",
              "  --sklearn-color-unfitted-level-0: #fff5e6;\n",
              "  --sklearn-color-unfitted-level-1: #f6e4d2;\n",
              "  --sklearn-color-unfitted-level-2: #ffe0b3;\n",
              "  --sklearn-color-unfitted-level-3: chocolate;\n",
              "  /* Definition of color scheme for fitted estimators */\n",
              "  --sklearn-color-fitted-level-0: #f0f8ff;\n",
              "  --sklearn-color-fitted-level-1: #d4ebff;\n",
              "  --sklearn-color-fitted-level-2: #b3dbfd;\n",
              "  --sklearn-color-fitted-level-3: cornflowerblue;\n",
              "\n",
              "  /* Specific color for light theme */\n",
              "  --sklearn-color-text-on-default-background: var(--sg-text-color, var(--theme-code-foreground, var(--jp-content-font-color1, black)));\n",
              "  --sklearn-color-background: var(--sg-background-color, var(--theme-background, var(--jp-layout-color0, white)));\n",
              "  --sklearn-color-border-box: var(--sg-text-color, var(--theme-code-foreground, var(--jp-content-font-color1, black)));\n",
              "  --sklearn-color-icon: #696969;\n",
              "\n",
              "  @media (prefers-color-scheme: dark) {\n",
              "    /* Redefinition of color scheme for dark theme */\n",
              "    --sklearn-color-text-on-default-background: var(--sg-text-color, var(--theme-code-foreground, var(--jp-content-font-color1, white)));\n",
              "    --sklearn-color-background: var(--sg-background-color, var(--theme-background, var(--jp-layout-color0, #111)));\n",
              "    --sklearn-color-border-box: var(--sg-text-color, var(--theme-code-foreground, var(--jp-content-font-color1, white)));\n",
              "    --sklearn-color-icon: #878787;\n",
              "  }\n",
              "}\n",
              "\n",
              "#sk-container-id-1 {\n",
              "  color: var(--sklearn-color-text);\n",
              "}\n",
              "\n",
              "#sk-container-id-1 pre {\n",
              "  padding: 0;\n",
              "}\n",
              "\n",
              "#sk-container-id-1 input.sk-hidden--visually {\n",
              "  border: 0;\n",
              "  clip: rect(1px 1px 1px 1px);\n",
              "  clip: rect(1px, 1px, 1px, 1px);\n",
              "  height: 1px;\n",
              "  margin: -1px;\n",
              "  overflow: hidden;\n",
              "  padding: 0;\n",
              "  position: absolute;\n",
              "  width: 1px;\n",
              "}\n",
              "\n",
              "#sk-container-id-1 div.sk-dashed-wrapped {\n",
              "  border: 1px dashed var(--sklearn-color-line);\n",
              "  margin: 0 0.4em 0.5em 0.4em;\n",
              "  box-sizing: border-box;\n",
              "  padding-bottom: 0.4em;\n",
              "  background-color: var(--sklearn-color-background);\n",
              "}\n",
              "\n",
              "#sk-container-id-1 div.sk-container {\n",
              "  /* jupyter's `normalize.less` sets `[hidden] { display: none; }`\n",
              "     but bootstrap.min.css set `[hidden] { display: none !important; }`\n",
              "     so we also need the `!important` here to be able to override the\n",
              "     default hidden behavior on the sphinx rendered scikit-learn.org.\n",
              "     See: https://github.com/scikit-learn/scikit-learn/issues/21755 */\n",
              "  display: inline-block !important;\n",
              "  position: relative;\n",
              "}\n",
              "\n",
              "#sk-container-id-1 div.sk-text-repr-fallback {\n",
              "  display: none;\n",
              "}\n",
              "\n",
              "div.sk-parallel-item,\n",
              "div.sk-serial,\n",
              "div.sk-item {\n",
              "  /* draw centered vertical line to link estimators */\n",
              "  background-image: linear-gradient(var(--sklearn-color-text-on-default-background), var(--sklearn-color-text-on-default-background));\n",
              "  background-size: 2px 100%;\n",
              "  background-repeat: no-repeat;\n",
              "  background-position: center center;\n",
              "}\n",
              "\n",
              "/* Parallel-specific style estimator block */\n",
              "\n",
              "#sk-container-id-1 div.sk-parallel-item::after {\n",
              "  content: \"\";\n",
              "  width: 100%;\n",
              "  border-bottom: 2px solid var(--sklearn-color-text-on-default-background);\n",
              "  flex-grow: 1;\n",
              "}\n",
              "\n",
              "#sk-container-id-1 div.sk-parallel {\n",
              "  display: flex;\n",
              "  align-items: stretch;\n",
              "  justify-content: center;\n",
              "  background-color: var(--sklearn-color-background);\n",
              "  position: relative;\n",
              "}\n",
              "\n",
              "#sk-container-id-1 div.sk-parallel-item {\n",
              "  display: flex;\n",
              "  flex-direction: column;\n",
              "}\n",
              "\n",
              "#sk-container-id-1 div.sk-parallel-item:first-child::after {\n",
              "  align-self: flex-end;\n",
              "  width: 50%;\n",
              "}\n",
              "\n",
              "#sk-container-id-1 div.sk-parallel-item:last-child::after {\n",
              "  align-self: flex-start;\n",
              "  width: 50%;\n",
              "}\n",
              "\n",
              "#sk-container-id-1 div.sk-parallel-item:only-child::after {\n",
              "  width: 0;\n",
              "}\n",
              "\n",
              "/* Serial-specific style estimator block */\n",
              "\n",
              "#sk-container-id-1 div.sk-serial {\n",
              "  display: flex;\n",
              "  flex-direction: column;\n",
              "  align-items: center;\n",
              "  background-color: var(--sklearn-color-background);\n",
              "  padding-right: 1em;\n",
              "  padding-left: 1em;\n",
              "}\n",
              "\n",
              "\n",
              "/* Toggleable style: style used for estimator/Pipeline/ColumnTransformer box that is\n",
              "clickable and can be expanded/collapsed.\n",
              "- Pipeline and ColumnTransformer use this feature and define the default style\n",
              "- Estimators will overwrite some part of the style using the `sk-estimator` class\n",
              "*/\n",
              "\n",
              "/* Pipeline and ColumnTransformer style (default) */\n",
              "\n",
              "#sk-container-id-1 div.sk-toggleable {\n",
              "  /* Default theme specific background. It is overwritten whether we have a\n",
              "  specific estimator or a Pipeline/ColumnTransformer */\n",
              "  background-color: var(--sklearn-color-background);\n",
              "}\n",
              "\n",
              "/* Toggleable label */\n",
              "#sk-container-id-1 label.sk-toggleable__label {\n",
              "  cursor: pointer;\n",
              "  display: block;\n",
              "  width: 100%;\n",
              "  margin-bottom: 0;\n",
              "  padding: 0.5em;\n",
              "  box-sizing: border-box;\n",
              "  text-align: center;\n",
              "}\n",
              "\n",
              "#sk-container-id-1 label.sk-toggleable__label-arrow:before {\n",
              "  /* Arrow on the left of the label */\n",
              "  content: \"▸\";\n",
              "  float: left;\n",
              "  margin-right: 0.25em;\n",
              "  color: var(--sklearn-color-icon);\n",
              "}\n",
              "\n",
              "#sk-container-id-1 label.sk-toggleable__label-arrow:hover:before {\n",
              "  color: var(--sklearn-color-text);\n",
              "}\n",
              "\n",
              "/* Toggleable content - dropdown */\n",
              "\n",
              "#sk-container-id-1 div.sk-toggleable__content {\n",
              "  max-height: 0;\n",
              "  max-width: 0;\n",
              "  overflow: hidden;\n",
              "  text-align: left;\n",
              "  /* unfitted */\n",
              "  background-color: var(--sklearn-color-unfitted-level-0);\n",
              "}\n",
              "\n",
              "#sk-container-id-1 div.sk-toggleable__content.fitted {\n",
              "  /* fitted */\n",
              "  background-color: var(--sklearn-color-fitted-level-0);\n",
              "}\n",
              "\n",
              "#sk-container-id-1 div.sk-toggleable__content pre {\n",
              "  margin: 0.2em;\n",
              "  border-radius: 0.25em;\n",
              "  color: var(--sklearn-color-text);\n",
              "  /* unfitted */\n",
              "  background-color: var(--sklearn-color-unfitted-level-0);\n",
              "}\n",
              "\n",
              "#sk-container-id-1 div.sk-toggleable__content.fitted pre {\n",
              "  /* unfitted */\n",
              "  background-color: var(--sklearn-color-fitted-level-0);\n",
              "}\n",
              "\n",
              "#sk-container-id-1 input.sk-toggleable__control:checked~div.sk-toggleable__content {\n",
              "  /* Expand drop-down */\n",
              "  max-height: 200px;\n",
              "  max-width: 100%;\n",
              "  overflow: auto;\n",
              "}\n",
              "\n",
              "#sk-container-id-1 input.sk-toggleable__control:checked~label.sk-toggleable__label-arrow:before {\n",
              "  content: \"▾\";\n",
              "}\n",
              "\n",
              "/* Pipeline/ColumnTransformer-specific style */\n",
              "\n",
              "#sk-container-id-1 div.sk-label input.sk-toggleable__control:checked~label.sk-toggleable__label {\n",
              "  color: var(--sklearn-color-text);\n",
              "  background-color: var(--sklearn-color-unfitted-level-2);\n",
              "}\n",
              "\n",
              "#sk-container-id-1 div.sk-label.fitted input.sk-toggleable__control:checked~label.sk-toggleable__label {\n",
              "  background-color: var(--sklearn-color-fitted-level-2);\n",
              "}\n",
              "\n",
              "/* Estimator-specific style */\n",
              "\n",
              "/* Colorize estimator box */\n",
              "#sk-container-id-1 div.sk-estimator input.sk-toggleable__control:checked~label.sk-toggleable__label {\n",
              "  /* unfitted */\n",
              "  background-color: var(--sklearn-color-unfitted-level-2);\n",
              "}\n",
              "\n",
              "#sk-container-id-1 div.sk-estimator.fitted input.sk-toggleable__control:checked~label.sk-toggleable__label {\n",
              "  /* fitted */\n",
              "  background-color: var(--sklearn-color-fitted-level-2);\n",
              "}\n",
              "\n",
              "#sk-container-id-1 div.sk-label label.sk-toggleable__label,\n",
              "#sk-container-id-1 div.sk-label label {\n",
              "  /* The background is the default theme color */\n",
              "  color: var(--sklearn-color-text-on-default-background);\n",
              "}\n",
              "\n",
              "/* On hover, darken the color of the background */\n",
              "#sk-container-id-1 div.sk-label:hover label.sk-toggleable__label {\n",
              "  color: var(--sklearn-color-text);\n",
              "  background-color: var(--sklearn-color-unfitted-level-2);\n",
              "}\n",
              "\n",
              "/* Label box, darken color on hover, fitted */\n",
              "#sk-container-id-1 div.sk-label.fitted:hover label.sk-toggleable__label.fitted {\n",
              "  color: var(--sklearn-color-text);\n",
              "  background-color: var(--sklearn-color-fitted-level-2);\n",
              "}\n",
              "\n",
              "/* Estimator label */\n",
              "\n",
              "#sk-container-id-1 div.sk-label label {\n",
              "  font-family: monospace;\n",
              "  font-weight: bold;\n",
              "  display: inline-block;\n",
              "  line-height: 1.2em;\n",
              "}\n",
              "\n",
              "#sk-container-id-1 div.sk-label-container {\n",
              "  text-align: center;\n",
              "}\n",
              "\n",
              "/* Estimator-specific */\n",
              "#sk-container-id-1 div.sk-estimator {\n",
              "  font-family: monospace;\n",
              "  border: 1px dotted var(--sklearn-color-border-box);\n",
              "  border-radius: 0.25em;\n",
              "  box-sizing: border-box;\n",
              "  margin-bottom: 0.5em;\n",
              "  /* unfitted */\n",
              "  background-color: var(--sklearn-color-unfitted-level-0);\n",
              "}\n",
              "\n",
              "#sk-container-id-1 div.sk-estimator.fitted {\n",
              "  /* fitted */\n",
              "  background-color: var(--sklearn-color-fitted-level-0);\n",
              "}\n",
              "\n",
              "/* on hover */\n",
              "#sk-container-id-1 div.sk-estimator:hover {\n",
              "  /* unfitted */\n",
              "  background-color: var(--sklearn-color-unfitted-level-2);\n",
              "}\n",
              "\n",
              "#sk-container-id-1 div.sk-estimator.fitted:hover {\n",
              "  /* fitted */\n",
              "  background-color: var(--sklearn-color-fitted-level-2);\n",
              "}\n",
              "\n",
              "/* Specification for estimator info (e.g. \"i\" and \"?\") */\n",
              "\n",
              "/* Common style for \"i\" and \"?\" */\n",
              "\n",
              ".sk-estimator-doc-link,\n",
              "a:link.sk-estimator-doc-link,\n",
              "a:visited.sk-estimator-doc-link {\n",
              "  float: right;\n",
              "  font-size: smaller;\n",
              "  line-height: 1em;\n",
              "  font-family: monospace;\n",
              "  background-color: var(--sklearn-color-background);\n",
              "  border-radius: 1em;\n",
              "  height: 1em;\n",
              "  width: 1em;\n",
              "  text-decoration: none !important;\n",
              "  margin-left: 1ex;\n",
              "  /* unfitted */\n",
              "  border: var(--sklearn-color-unfitted-level-1) 1pt solid;\n",
              "  color: var(--sklearn-color-unfitted-level-1);\n",
              "}\n",
              "\n",
              ".sk-estimator-doc-link.fitted,\n",
              "a:link.sk-estimator-doc-link.fitted,\n",
              "a:visited.sk-estimator-doc-link.fitted {\n",
              "  /* fitted */\n",
              "  border: var(--sklearn-color-fitted-level-1) 1pt solid;\n",
              "  color: var(--sklearn-color-fitted-level-1);\n",
              "}\n",
              "\n",
              "/* On hover */\n",
              "div.sk-estimator:hover .sk-estimator-doc-link:hover,\n",
              ".sk-estimator-doc-link:hover,\n",
              "div.sk-label-container:hover .sk-estimator-doc-link:hover,\n",
              ".sk-estimator-doc-link:hover {\n",
              "  /* unfitted */\n",
              "  background-color: var(--sklearn-color-unfitted-level-3);\n",
              "  color: var(--sklearn-color-background);\n",
              "  text-decoration: none;\n",
              "}\n",
              "\n",
              "div.sk-estimator.fitted:hover .sk-estimator-doc-link.fitted:hover,\n",
              ".sk-estimator-doc-link.fitted:hover,\n",
              "div.sk-label-container:hover .sk-estimator-doc-link.fitted:hover,\n",
              ".sk-estimator-doc-link.fitted:hover {\n",
              "  /* fitted */\n",
              "  background-color: var(--sklearn-color-fitted-level-3);\n",
              "  color: var(--sklearn-color-background);\n",
              "  text-decoration: none;\n",
              "}\n",
              "\n",
              "/* Span, style for the box shown on hovering the info icon */\n",
              ".sk-estimator-doc-link span {\n",
              "  display: none;\n",
              "  z-index: 9999;\n",
              "  position: relative;\n",
              "  font-weight: normal;\n",
              "  right: .2ex;\n",
              "  padding: .5ex;\n",
              "  margin: .5ex;\n",
              "  width: min-content;\n",
              "  min-width: 20ex;\n",
              "  max-width: 50ex;\n",
              "  color: var(--sklearn-color-text);\n",
              "  box-shadow: 2pt 2pt 4pt #999;\n",
              "  /* unfitted */\n",
              "  background: var(--sklearn-color-unfitted-level-0);\n",
              "  border: .5pt solid var(--sklearn-color-unfitted-level-3);\n",
              "}\n",
              "\n",
              ".sk-estimator-doc-link.fitted span {\n",
              "  /* fitted */\n",
              "  background: var(--sklearn-color-fitted-level-0);\n",
              "  border: var(--sklearn-color-fitted-level-3);\n",
              "}\n",
              "\n",
              ".sk-estimator-doc-link:hover span {\n",
              "  display: block;\n",
              "}\n",
              "\n",
              "/* \"?\"-specific style due to the `<a>` HTML tag */\n",
              "\n",
              "#sk-container-id-1 a.estimator_doc_link {\n",
              "  float: right;\n",
              "  font-size: 1rem;\n",
              "  line-height: 1em;\n",
              "  font-family: monospace;\n",
              "  background-color: var(--sklearn-color-background);\n",
              "  border-radius: 1rem;\n",
              "  height: 1rem;\n",
              "  width: 1rem;\n",
              "  text-decoration: none;\n",
              "  /* unfitted */\n",
              "  color: var(--sklearn-color-unfitted-level-1);\n",
              "  border: var(--sklearn-color-unfitted-level-1) 1pt solid;\n",
              "}\n",
              "\n",
              "#sk-container-id-1 a.estimator_doc_link.fitted {\n",
              "  /* fitted */\n",
              "  border: var(--sklearn-color-fitted-level-1) 1pt solid;\n",
              "  color: var(--sklearn-color-fitted-level-1);\n",
              "}\n",
              "\n",
              "/* On hover */\n",
              "#sk-container-id-1 a.estimator_doc_link:hover {\n",
              "  /* unfitted */\n",
              "  background-color: var(--sklearn-color-unfitted-level-3);\n",
              "  color: var(--sklearn-color-background);\n",
              "  text-decoration: none;\n",
              "}\n",
              "\n",
              "#sk-container-id-1 a.estimator_doc_link.fitted:hover {\n",
              "  /* fitted */\n",
              "  background-color: var(--sklearn-color-fitted-level-3);\n",
              "}\n",
              "</style><div id=\"sk-container-id-1\" class=\"sk-top-container\"><div class=\"sk-text-repr-fallback\"><pre>LinearRegression()</pre><b>In a Jupyter environment, please rerun this cell to show the HTML representation or trust the notebook. <br />On GitHub, the HTML representation is unable to render, please try loading this page with nbviewer.org.</b></div><div class=\"sk-container\" hidden><div class=\"sk-item\"><div class=\"sk-estimator fitted sk-toggleable\"><input class=\"sk-toggleable__control sk-hidden--visually\" id=\"sk-estimator-id-1\" type=\"checkbox\" checked><label for=\"sk-estimator-id-1\" class=\"sk-toggleable__label fitted sk-toggleable__label-arrow fitted\">&nbsp;&nbsp;LinearRegression<a class=\"sk-estimator-doc-link fitted\" rel=\"noreferrer\" target=\"_blank\" href=\"https://scikit-learn.org/1.5/modules/generated/sklearn.linear_model.LinearRegression.html\">?<span>Documentation for LinearRegression</span></a><span class=\"sk-estimator-doc-link fitted\">i<span>Fitted</span></span></label><div class=\"sk-toggleable__content fitted\"><pre>LinearRegression()</pre></div> </div></div></div></div>"
            ]
          },
          "metadata": {},
          "execution_count": 6
        }
      ]
    },
    {
      "cell_type": "code",
      "source": [
        "# prompt: show me the coefficient and the intercept\n",
        "\n",
        "print(\"Coefficients:\", model.coef_)\n",
        "print(\"Intercept:\", model.intercept_)\n"
      ],
      "metadata": {
        "colab": {
          "base_uri": "https://localhost:8080/"
        },
        "id": "36pgYJ0kyKJZ",
        "outputId": "94726437-f296-43f1-d371-23893a9f3bd9"
      },
      "execution_count": 7,
      "outputs": [
        {
          "output_type": "stream",
          "name": "stdout",
          "text": [
            "Coefficients: [ 3.27246756e+03  1.70533310e+04  9.80134690e-01  4.47501233e+04\n",
            "  4.06727507e+02 -5.53821829e-03  3.86496851e+01  1.61584893e+05\n",
            "  4.61737619e+03  3.49031052e+02  4.38795090e+01  3.01231434e+01\n",
            " -2.43277353e-01  4.65668708e+03  1.33630424e+03  6.58126310e+01\n",
            "  6.23017464e+02  6.26445531e+02]\n",
            "Intercept: -2185564.5325153964\n"
          ]
        }
      ]
    },
    {
      "cell_type": "code",
      "source": [
        "model.score(x_train, y_train)"
      ],
      "metadata": {
        "colab": {
          "base_uri": "https://localhost:8080/"
        },
        "id": "OxEN5Zn2yayA",
        "outputId": "eb8ed8ee-638e-4e95-c85f-7db4691f4589"
      },
      "execution_count": 8,
      "outputs": [
        {
          "output_type": "execute_result",
          "data": {
            "text/plain": [
              "0.9765774889063762"
            ]
          },
          "metadata": {},
          "execution_count": 8
        }
      ]
    },
    {
      "cell_type": "code",
      "source": [
        "# prompt: model.score(x_test, y_test)\n",
        "\n",
        "print(model.score(x_test, y_test))\n"
      ],
      "metadata": {
        "colab": {
          "base_uri": "https://localhost:8080/"
        },
        "id": "laoKoAGiybyi",
        "outputId": "6d729be4-5960-48e2-f474-109c18d0d57e"
      },
      "execution_count": 9,
      "outputs": [
        {
          "output_type": "stream",
          "name": "stdout",
          "text": [
            "0.9843806772238421\n"
          ]
        }
      ]
    },
    {
      "cell_type": "code",
      "source": [
        "# prompt: do the cross validation for the model\n",
        "\n",
        "from sklearn.model_selection import cross_val_score\n",
        "\n",
        "# Perform cross-validation\n",
        "cv_scores = cross_val_score(model, x, y, cv=5)  # You can adjust the number of folds (cv)\n",
        "\n",
        "# Print the cross-validation scores\n",
        "print(\"Cross-validation scores:\", cv_scores)\n",
        "print(\"Average cross-validation score:\", cv_scores.mean())\n"
      ],
      "metadata": {
        "colab": {
          "base_uri": "https://localhost:8080/"
        },
        "id": "_XyhVhNsyhoI",
        "outputId": "cb760f26-e542-485f-8d47-f63ac1cafd5e"
      },
      "execution_count": 10,
      "outputs": [
        {
          "output_type": "stream",
          "name": "stdout",
          "text": [
            "Cross-validation scores: [0.96178344 0.94282005 0.96674565 0.95306401 0.94474873]\n",
            "Average cross-validation score: 0.9538323776396711\n"
          ]
        }
      ]
    },
    {
      "cell_type": "code",
      "source": [
        "# prompt: make a lasso regression model for x_train and y_train\n",
        "\n",
        "from sklearn.linear_model import Lasso\n",
        "\n",
        "# Create a Lasso Regression model\n",
        "lasso_model = Lasso(alpha=1.0)  # You can adjust the alpha value\n",
        "\n",
        "# Train the model on the training data\n",
        "lasso_model.fit(x_train, y_train)\n",
        "\n",
        "# Print the coefficients and intercept\n",
        "print(\"Lasso Coefficients:\", lasso_model.coef_)\n",
        "print(\"Lasso Intercept:\", lasso_model.intercept_)\n",
        "\n",
        "# Evaluate the model on the test data\n",
        "lasso_score = lasso_model.score(x_test, y_test)\n",
        "print(\"Lasso Regression R^2 Score:\", lasso_score)\n",
        "\n",
        "# Perform cross-validation\n",
        "lasso_cv_scores = cross_val_score(lasso_model, x, y, cv=5)\n",
        "print(\"Lasso Cross-validation scores:\", lasso_cv_scores)\n",
        "print(\"Lasso Average cross-validation score:\", lasso_cv_scores.mean())\n"
      ],
      "metadata": {
        "colab": {
          "base_uri": "https://localhost:8080/"
        },
        "id": "eaXnAbQOzVz8",
        "outputId": "a283d8ce-f619-45e5-a646-d027a7cba726"
      },
      "execution_count": 14,
      "outputs": [
        {
          "output_type": "stream",
          "name": "stdout",
          "text": [
            "Lasso Coefficients: [ 3.27291810e+03  1.70372173e+04  9.85829978e-01  4.46973770e+04\n",
            "  4.07514241e+02 -5.85712888e-03  3.86433502e+01  1.61025877e+05\n",
            "  4.60431484e+03  3.50105397e+02  4.38604416e+01  3.01064865e+01\n",
            " -2.43582808e-01  4.64862271e+03  1.33528725e+03  6.56316995e+01\n",
            "  6.21717560e+02  6.26720199e+02]\n",
            "Lasso Intercept: -2183667.8888125494\n",
            "Lasso Regression R^2 Score: 0.9843210298383381\n",
            "Lasso Cross-validation scores: [0.96179677 0.94280998 0.96667139 0.95330672 0.94468289]\n",
            "Lasso Average cross-validation score: 0.9538535502449434\n"
          ]
        },
        {
          "output_type": "stream",
          "name": "stderr",
          "text": [
            "/usr/local/lib/python3.10/dist-packages/sklearn/linear_model/_coordinate_descent.py:697: ConvergenceWarning: Objective did not converge. You might want to increase the number of iterations, check the scale of the features or consider increasing regularisation. Duality gap: 6.608e+08, tolerance: 5.508e+06\n",
            "  model = cd_fast.enet_coordinate_descent(\n",
            "/usr/local/lib/python3.10/dist-packages/sklearn/linear_model/_coordinate_descent.py:697: ConvergenceWarning: Objective did not converge. You might want to increase the number of iterations, check the scale of the features or consider increasing regularisation. Duality gap: 6.290e+08, tolerance: 5.728e+06\n",
            "  model = cd_fast.enet_coordinate_descent(\n",
            "/usr/local/lib/python3.10/dist-packages/sklearn/linear_model/_coordinate_descent.py:697: ConvergenceWarning: Objective did not converge. You might want to increase the number of iterations, check the scale of the features or consider increasing regularisation. Duality gap: 5.267e+08, tolerance: 5.603e+06\n",
            "  model = cd_fast.enet_coordinate_descent(\n",
            "/usr/local/lib/python3.10/dist-packages/sklearn/linear_model/_coordinate_descent.py:697: ConvergenceWarning: Objective did not converge. You might want to increase the number of iterations, check the scale of the features or consider increasing regularisation. Duality gap: 5.991e+08, tolerance: 5.626e+06\n",
            "  model = cd_fast.enet_coordinate_descent(\n",
            "/usr/local/lib/python3.10/dist-packages/sklearn/linear_model/_coordinate_descent.py:697: ConvergenceWarning: Objective did not converge. You might want to increase the number of iterations, check the scale of the features or consider increasing regularisation. Duality gap: 5.664e+08, tolerance: 5.700e+06\n",
            "  model = cd_fast.enet_coordinate_descent(\n",
            "/usr/local/lib/python3.10/dist-packages/sklearn/linear_model/_coordinate_descent.py:697: ConvergenceWarning: Objective did not converge. You might want to increase the number of iterations, check the scale of the features or consider increasing regularisation. Duality gap: 4.334e+08, tolerance: 4.616e+06\n",
            "  model = cd_fast.enet_coordinate_descent(\n"
          ]
        }
      ]
    },
    {
      "cell_type": "code",
      "source": [
        "# prompt: do cross validation for lasso model\n",
        "\n",
        "from sklearn.model_selection import cross_val_score\n",
        "\n",
        "# Perform cross-validation for the Lasso model\n",
        "lasso_cv_scores = cross_val_score(lasso_model, x, y, cv=5)  # You can adjust the number of folds (cv)\n",
        "\n",
        "# Print the cross-validation scores\n",
        "print(\"Lasso Cross-validation scores:\", lasso_cv_scores)\n",
        "print(\"Lasso Average cross-validation score:\", lasso_cv_scores.mean())\n"
      ],
      "metadata": {
        "colab": {
          "base_uri": "https://localhost:8080/"
        },
        "id": "TfRQDu42zntP",
        "outputId": "ea6e4554-c12e-4f11-9b3f-f16a940a44d5"
      },
      "execution_count": 16,
      "outputs": [
        {
          "output_type": "stream",
          "name": "stdout",
          "text": [
            "Lasso Cross-validation scores: [0.96179677 0.94280998 0.96667139 0.95330672 0.94468289]\n",
            "Lasso Average cross-validation score: 0.9538535502449434\n"
          ]
        },
        {
          "output_type": "stream",
          "name": "stderr",
          "text": [
            "/usr/local/lib/python3.10/dist-packages/sklearn/linear_model/_coordinate_descent.py:697: ConvergenceWarning: Objective did not converge. You might want to increase the number of iterations, check the scale of the features or consider increasing regularisation. Duality gap: 6.290e+08, tolerance: 5.728e+06\n",
            "  model = cd_fast.enet_coordinate_descent(\n",
            "/usr/local/lib/python3.10/dist-packages/sklearn/linear_model/_coordinate_descent.py:697: ConvergenceWarning: Objective did not converge. You might want to increase the number of iterations, check the scale of the features or consider increasing regularisation. Duality gap: 5.267e+08, tolerance: 5.603e+06\n",
            "  model = cd_fast.enet_coordinate_descent(\n",
            "/usr/local/lib/python3.10/dist-packages/sklearn/linear_model/_coordinate_descent.py:697: ConvergenceWarning: Objective did not converge. You might want to increase the number of iterations, check the scale of the features or consider increasing regularisation. Duality gap: 5.991e+08, tolerance: 5.626e+06\n",
            "  model = cd_fast.enet_coordinate_descent(\n",
            "/usr/local/lib/python3.10/dist-packages/sklearn/linear_model/_coordinate_descent.py:697: ConvergenceWarning: Objective did not converge. You might want to increase the number of iterations, check the scale of the features or consider increasing regularisation. Duality gap: 5.664e+08, tolerance: 5.700e+06\n",
            "  model = cd_fast.enet_coordinate_descent(\n",
            "/usr/local/lib/python3.10/dist-packages/sklearn/linear_model/_coordinate_descent.py:697: ConvergenceWarning: Objective did not converge. You might want to increase the number of iterations, check the scale of the features or consider increasing regularisation. Duality gap: 4.334e+08, tolerance: 4.616e+06\n",
            "  model = cd_fast.enet_coordinate_descent(\n"
          ]
        }
      ]
    },
    {
      "cell_type": "code",
      "source": [
        "# prompt: make ridge regression model with x_train and y_train\n",
        "\n",
        "from sklearn.linear_model import Ridge\n",
        "\n",
        "# Create a Ridge Regression model\n",
        "ridge_model = Ridge(alpha=1.0)  # You can adjust the alpha value\n",
        "\n",
        "# Train the model on the training data\n",
        "ridge_model.fit(x_train, y_train)\n",
        "\n",
        "# Print the coefficients and intercept\n",
        "print(\"Ridge Coefficients:\", ridge_model.coef_)\n",
        "print(\"Ridge Intercept:\", ridge_model.intercept_)\n",
        "\n",
        "# Evaluate the model on the test data\n",
        "ridge_score = ridge_model.score(x_test, y_test)\n",
        "print(\"Ridge Regression R^2 Score:\", ridge_score)\n",
        "\n",
        "# Perform cross-validation\n",
        "ridge_cv_scores = cross_val_score(ridge_model, x, y, cv=5)\n",
        "print(\"Ridge Cross-validation scores:\", ridge_cv_scores)\n",
        "print(\"Ridge Average cross-validation score:\", ridge_cv_scores.mean())\n"
      ],
      "metadata": {
        "colab": {
          "base_uri": "https://localhost:8080/"
        },
        "id": "dmfbjdFPzy-U",
        "outputId": "0db8d13f-f774-4730-c820-801a6026cb31"
      },
      "execution_count": 17,
      "outputs": [
        {
          "output_type": "stream",
          "name": "stdout",
          "text": [
            "Ridge Coefficients: [ 3.34294358e+03  1.36534033e+04  2.13247369e+00  2.71192498e+04\n",
            "  6.22953585e+02 -7.58493553e-02  3.57392753e+01  1.73414338e+04\n",
            "  2.60955368e+03  6.80280419e+02  3.91706562e+01  2.57749288e+01\n",
            " -2.87186216e-01  3.22357696e+03  1.33509588e+03  1.57422625e+01\n",
            "  3.12485004e+02  7.26678046e+02]\n",
            "Ridge Intercept: -1682051.4349699602\n",
            "Ridge Regression R^2 Score: 0.8294505838338724\n",
            "Ridge Cross-validation scores: [0.82461023 0.76851768 0.88183485 0.77605421 0.87534127]\n",
            "Ridge Average cross-validation score: 0.8252716478344929\n"
          ]
        }
      ]
    },
    {
      "cell_type": "code",
      "source": [
        "# prompt: make elasticnet model on x_train and y_train\n",
        "\n",
        "from sklearn.linear_model import ElasticNet\n",
        "\n",
        "# Create an ElasticNet model\n",
        "elasticnet_model = ElasticNet(alpha=1.0, l1_ratio=0.5)  # You can adjust alpha and l1_ratio\n",
        "\n",
        "# Train the model on the training data\n",
        "elasticnet_model.fit(x_train, y_train)\n",
        "\n",
        "# Print the coefficients and intercept\n",
        "print(\"ElasticNet Coefficients:\", elasticnet_model.coef_)\n",
        "print(\"ElasticNet Intercept:\", elasticnet_model.intercept_)\n",
        "\n",
        "# Evaluate the model on the test data\n",
        "elasticnet_score = elasticnet_model.score(x_test, y_test)\n",
        "print(\"ElasticNet Regression R^2 Score:\", elasticnet_score)\n",
        "\n",
        "# Perform cross-validation\n",
        "elasticnet_cv_scores = cross_val_score(elasticnet_model, x, y, cv=5)\n",
        "print(\"ElasticNet Cross-validation scores:\", elasticnet_cv_scores)\n",
        "print(\"ElasticNet Average cross-validation score:\", elasticnet_cv_scores.mean())\n"
      ],
      "metadata": {
        "colab": {
          "base_uri": "https://localhost:8080/"
        },
        "id": "sgGVWqEsz91j",
        "outputId": "1c0c92c9-81e8-4a11-fbc9-35dbc068e804"
      },
      "execution_count": 18,
      "outputs": [
        {
          "output_type": "stream",
          "name": "stdout",
          "text": [
            "ElasticNet Coefficients: [ 3.54286088e+03  1.60594060e+03  4.05952879e+00  1.89930346e+03\n",
            "  7.99498371e+02 -1.51935035e-01  4.15188171e+01  5.84760677e+02\n",
            "  4.10998385e+02  5.86594419e+02  4.09147187e+01  2.86154238e+01\n",
            " -4.20081245e-01  9.78335449e+02  6.02864894e+02 -2.52750733e+01\n",
            "  1.15102175e+02  8.30089664e+02]\n",
            "ElasticNet Intercept: -1650286.0180095122\n",
            "ElasticNet Regression R^2 Score: 0.7062279525158823\n",
            "ElasticNet Cross-validation scores: [0.69619244 0.6110284  0.72037476 0.67375597 0.79736504]\n",
            "ElasticNet Average cross-validation score: 0.6997433223066016\n"
          ]
        },
        {
          "output_type": "stream",
          "name": "stderr",
          "text": [
            "/usr/local/lib/python3.10/dist-packages/sklearn/linear_model/_coordinate_descent.py:697: ConvergenceWarning: Objective did not converge. You might want to increase the number of iterations, check the scale of the features or consider increasing regularisation. Duality gap: 4.448e+09, tolerance: 5.508e+06\n",
            "  model = cd_fast.enet_coordinate_descent(\n",
            "/usr/local/lib/python3.10/dist-packages/sklearn/linear_model/_coordinate_descent.py:697: ConvergenceWarning: Objective did not converge. You might want to increase the number of iterations, check the scale of the features or consider increasing regularisation. Duality gap: 4.993e+09, tolerance: 5.728e+06\n",
            "  model = cd_fast.enet_coordinate_descent(\n",
            "/usr/local/lib/python3.10/dist-packages/sklearn/linear_model/_coordinate_descent.py:697: ConvergenceWarning: Objective did not converge. You might want to increase the number of iterations, check the scale of the features or consider increasing regularisation. Duality gap: 4.015e+09, tolerance: 5.603e+06\n",
            "  model = cd_fast.enet_coordinate_descent(\n",
            "/usr/local/lib/python3.10/dist-packages/sklearn/linear_model/_coordinate_descent.py:697: ConvergenceWarning: Objective did not converge. You might want to increase the number of iterations, check the scale of the features or consider increasing regularisation. Duality gap: 4.885e+09, tolerance: 5.626e+06\n",
            "  model = cd_fast.enet_coordinate_descent(\n",
            "/usr/local/lib/python3.10/dist-packages/sklearn/linear_model/_coordinate_descent.py:697: ConvergenceWarning: Objective did not converge. You might want to increase the number of iterations, check the scale of the features or consider increasing regularisation. Duality gap: 4.854e+09, tolerance: 5.700e+06\n",
            "  model = cd_fast.enet_coordinate_descent(\n",
            "/usr/local/lib/python3.10/dist-packages/sklearn/linear_model/_coordinate_descent.py:697: ConvergenceWarning: Objective did not converge. You might want to increase the number of iterations, check the scale of the features or consider increasing regularisation. Duality gap: 4.719e+09, tolerance: 4.616e+06\n",
            "  model = cd_fast.enet_coordinate_descent(\n"
          ]
        }
      ]
    },
    {
      "cell_type": "code",
      "source": [
        "# prompt: dump the linear regression model\n",
        "\n",
        "import pickle\n",
        "\n",
        "# Save the model to a file\n",
        "filename = 'linear_regression_model.pkl'\n",
        "pickle.dump(model, open(filename, 'wb'))\n"
      ],
      "metadata": {
        "id": "IEdZ4tSr4Buv"
      },
      "execution_count": null,
      "outputs": []
    }
  ]
}